{
 "cells": [
  {
   "cell_type": "markdown",
   "metadata": {
    "papermill": {
     "duration": 0.014646,
     "end_time": "2024-07-18T17:25:31.060107",
     "exception": false,
     "start_time": "2024-07-18T17:25:31.045461",
     "status": "completed"
    },
    "tags": []
   },
   "source": [
    "<div style=\"font-size: 45px; font-weight: bold; color: yellow; text-transform: uppercase; background-color: black; border: 5px solid yellow; padding: 5px 10px; display: inline-block; border-radius: 10px; width:800px\">\n",
    "    ICC Men's T20 World Cup 2024\n",
    "</div>"
   ]
  },
  {
   "cell_type": "code",
   "execution_count": 2,
   "metadata": {
    "papermill": {
     "duration": 2.448106,
     "end_time": "2024-07-18T17:25:33.522151",
     "exception": false,
     "start_time": "2024-07-18T17:25:31.074045",
     "status": "completed"
    },
    "tags": []
   },
   "outputs": [],
   "source": [
    "import pandas as pd\n",
    "import matplotlib.pyplot as plt\n",
    "import seaborn as sns\n",
    "import warnings\n",
    "warnings.filterwarnings('ignore')"
   ]
  },
  {
   "cell_type": "code",
   "execution_count": 3,
   "metadata": {
    "papermill": {
     "duration": 0.11634,
     "end_time": "2024-07-18T17:25:33.652258",
     "exception": false,
     "start_time": "2024-07-18T17:25:33.535918",
     "status": "completed"
    },
    "tags": []
   },
   "outputs": [],
   "source": [
    "matches = pd.read_csv('matches.csv')\n",
    "deliveries = pd.read_csv('deliveries.csv')"
   ]
  },
  {
   "cell_type": "code",
   "execution_count": null,
   "metadata": {
    "execution": {
     "iopub.execute_input": "2024-07-18T17:25:33.681754Z",
     "iopub.status.busy": "2024-07-18T17:25:33.681335Z",
     "iopub.status.idle": "2024-07-18T17:25:33.686692Z",
     "shell.execute_reply": "2024-07-18T17:25:33.685517Z"
    },
    "papermill": {
     "duration": 0.023091,
     "end_time": "2024-07-18T17:25:33.68916",
     "exception": false,
     "start_time": "2024-07-18T17:25:33.666069",
     "status": "completed"
    },
    "tags": []
   },
   "outputs": [],
   "source": [
    "pd.set_option('display.max_columns', None)\n",
    "pd.set_option('display.max_rows', None)"
   ]
  },
  {
   "cell_type": "code",
   "execution_count": null,
   "metadata": {
    "execution": {
     "iopub.execute_input": "2024-07-18T17:25:33.720808Z",
     "iopub.status.busy": "2024-07-18T17:25:33.720433Z",
     "iopub.status.idle": "2024-07-18T17:25:33.75504Z",
     "shell.execute_reply": "2024-07-18T17:25:33.753912Z"
    },
    "papermill": {
     "duration": 0.0538,
     "end_time": "2024-07-18T17:25:33.757709",
     "exception": false,
     "start_time": "2024-07-18T17:25:33.703909",
     "status": "completed"
    },
    "tags": []
   },
   "outputs": [],
   "source": [
    "matches.head()"
   ]
  },
  {
   "cell_type": "code",
   "execution_count": null,
   "metadata": {
    "execution": {
     "iopub.execute_input": "2024-07-18T17:25:33.788151Z",
     "iopub.status.busy": "2024-07-18T17:25:33.787703Z",
     "iopub.status.idle": "2024-07-18T17:25:33.812102Z",
     "shell.execute_reply": "2024-07-18T17:25:33.810983Z"
    },
    "papermill": {
     "duration": 0.042276,
     "end_time": "2024-07-18T17:25:33.814507",
     "exception": false,
     "start_time": "2024-07-18T17:25:33.772231",
     "status": "completed"
    },
    "tags": []
   },
   "outputs": [],
   "source": [
    "deliveries.head()"
   ]
  },
  {
   "cell_type": "code",
   "execution_count": null,
   "metadata": {
    "papermill": {
     "duration": 0.015608,
     "end_time": "2024-07-18T17:25:33.845",
     "exception": false,
     "start_time": "2024-07-18T17:25:33.829392",
     "status": "completed"
    },
    "tags": []
   },
   "outputs": [],
   "source": [
    "<div style=\"font-size: 45px; font-weight: bold; color: yellow; text-transform: uppercase; background-color: black; border: 5px solid yellow; padding: 5px 10px; display: inline-block; border-radius: 10px; width:750px\">\n",
    "    Filling Super Over Winners\n",
    "</div>"
   ]
  },
  {
   "cell_type": "code",
   "execution_count": null,
   "metadata": {
    "execution": {
     "iopub.execute_input": "2024-07-18T17:25:33.880738Z",
     "iopub.status.busy": "2024-07-18T17:25:33.87915Z",
     "iopub.status.idle": "2024-07-18T17:25:33.897371Z",
     "shell.execute_reply": "2024-07-18T17:25:33.895776Z"
    },
    "papermill": {
     "duration": 0.038688,
     "end_time": "2024-07-18T17:25:33.900266",
     "exception": false,
     "start_time": "2024-07-18T17:25:33.861578",
     "status": "completed"
    },
    "tags": []
   },
   "outputs": [],
   "source": [
    "matches.loc[(matches['team1'] == 'Oman') & (matches['team2'] == 'Namibia'), 'winner'] = matches.loc[(matches['team1'] == 'Oman') & (matches['team2'] == 'Namibia'), 'winner'].fillna('Namibia')\n",
    "matches.loc[(matches['team1'] == 'Pakistan') & (matches['team2'] == 'United States of America'), 'winner'] = matches.loc[(matches['team1'] == 'Pakistan') & (matches['team2'] == 'United States of America'), 'winner'].fillna('United States of America')"
   ]
  },
  {
   "cell_type": "code",
   "execution_count": null,
   "metadata": {
    "execution": {
     "iopub.execute_input": "2024-07-18T17:25:33.933567Z",
     "iopub.status.busy": "2024-07-18T17:25:33.932765Z",
     "iopub.status.idle": "2024-07-18T17:25:33.940173Z",
     "shell.execute_reply": "2024-07-18T17:25:33.939035Z"
    },
    "papermill": {
     "duration": 0.026694,
     "end_time": "2024-07-18T17:25:33.94281",
     "exception": false,
     "start_time": "2024-07-18T17:25:33.916116",
     "status": "completed"
    },
    "tags": []
   },
   "outputs": [],
   "source": [
    "matches.shape"
   ]
  },
  {
   "cell_type": "code",
   "execution_count": null,
   "metadata": {
    "execution": {
     "iopub.execute_input": "2024-07-18T17:25:33.9768Z",
     "iopub.status.busy": "2024-07-18T17:25:33.976345Z",
     "iopub.status.idle": "2024-07-18T17:25:33.983823Z",
     "shell.execute_reply": "2024-07-18T17:25:33.982486Z"
    },
    "papermill": {
     "duration": 0.027072,
     "end_time": "2024-07-18T17:25:33.986304",
     "exception": false,
     "start_time": "2024-07-18T17:25:33.959232",
     "status": "completed"
    },
    "tags": []
   },
   "outputs": [],
   "source": [
    "deliveries.shape"
   ]
  },
  {
   "cell_type": "markdown",
   "metadata": {
    "papermill": {
     "duration": 0.015074,
     "end_time": "2024-07-18T17:25:34.017805",
     "exception": false,
     "start_time": "2024-07-18T17:25:34.002731",
     "status": "completed"
    },
    "tags": []
   },
   "source": [
    "<div style=\"font-size: 45px; font-weight: bold; color: yellow; text-transform: uppercase; background-color: black; border: 5px solid yellow; padding: 5px 10px; display: inline-block; border-radius: 10px; width:550px\">\n",
    "    1. Matches Analysis\n",
    "</div>"
   ]
  },
  {
   "cell_type": "markdown",
   "metadata": {
    "papermill": {
     "duration": 0.01584,
     "end_time": "2024-07-18T17:25:34.050643",
     "exception": false,
     "start_time": "2024-07-18T17:25:34.034803",
     "status": "completed"
    },
    "tags": []
   },
   "source": [
    "<div style=\"font-size: 36px; font-weight: bold; color: skyblue; text-transform: uppercase; background-color: black; border: 2px solid blue; padding: 5px 10px; display: inline-block; border-radius: 10px; width:900px\">\n",
    "    1.1. Which team won the most matches?\n",
    "</div>"
   ]
  },
  {
   "cell_type": "code",
   "execution_count": null,
   "metadata": {
    "execution": {
     "iopub.execute_input": "2024-07-18T17:25:34.08347Z",
     "iopub.status.busy": "2024-07-18T17:25:34.083077Z",
     "iopub.status.idle": "2024-07-18T17:25:34.099701Z",
     "shell.execute_reply": "2024-07-18T17:25:34.098522Z"
    },
    "papermill": {
     "duration": 0.035992,
     "end_time": "2024-07-18T17:25:34.102432",
     "exception": false,
     "start_time": "2024-07-18T17:25:34.06644",
     "status": "completed"
    },
    "tags": []
   },
   "outputs": [],
   "source": [
    "win_counts = matches['winner'].value_counts()\n",
    "\n",
    "max_wins = win_counts.max()\n",
    "teams_with_most_wins = win_counts[win_counts == max_wins].index.tolist()\n",
    "\n",
    "teams_str = \", \".join(teams_with_most_wins)\n",
    "print(f\"Teams with the most wins: {teams_str} ({max_wins} wins)\")"
   ]
  },
  {
   "cell_type": "markdown",
   "metadata": {
    "papermill": {
     "duration": 0.015033,
     "end_time": "2024-07-18T17:25:34.133462",
     "exception": false,
     "start_time": "2024-07-18T17:25:34.118429",
     "status": "completed"
    },
    "tags": []
   },
   "source": [
    "<div style=\"font-size: 36px; font-weight: bold; color: skyblue; text-transform: uppercase; background-color: black; border: 2px solid blue; padding: 5px 10px; display: inline-block; border-radius: 10px; width:900px\">\n",
    "    1.2. What is the win percentage of each team?\n",
    "</div>"
   ]
  },
  {
   "cell_type": "code",
   "execution_count": null,
   "metadata": {
    "execution": {
     "iopub.execute_input": "2024-07-18T17:25:34.165884Z",
     "iopub.status.busy": "2024-07-18T17:25:34.165521Z",
     "iopub.status.idle": "2024-07-18T17:25:35.001491Z",
     "shell.execute_reply": "2024-07-18T17:25:35.000314Z"
    },
    "papermill": {
     "duration": 0.856216,
     "end_time": "2024-07-18T17:25:35.00507",
     "exception": false,
     "start_time": "2024-07-18T17:25:34.148854",
     "status": "completed"
    },
    "tags": []
   },
   "outputs": [],
   "source": [
    "all_teams = pd.concat([matches['team1'], matches['team2']])\n",
    "\n",
    "total_matches = all_teams.value_counts()\n",
    "\n",
    "team_wins = matches['winner'].value_counts()\n",
    "\n",
    "win_percentage = (team_wins / total_matches) * 100\n",
    "\n",
    "win_percentage_sorted = win_percentage.sort_values(ascending=False)\n",
    "\n",
    "win_percentage_sorted = win_percentage_sorted[win_percentage_sorted > 0]\n",
    "\n",
    "nation_colors = {\n",
    "    'India': 'blue',\n",
    "    'Afghanistan': 'blue',\n",
    "    'Uganda': 'yellow',\n",
    "    'Australia': 'yellow',\n",
    "    'New Zealand': 'black',\n",
    "    'South Africa': 'darkgreen',\n",
    "    'Pakistan': 'darkgreen',\n",
    "    'Bangladesh': 'darkgreen',\n",
    "    'West Indies': 'red',\n",
    "    'Scotland': 'purple',\n",
    "    'Netherlands': 'orange',\n",
    "    'United States of America': 'pink',\n",
    "    'Sri Lanka': 'darkblue',\n",
    "    'Canada': 'red',\n",
    "    'England': 'red'\n",
    "}\n",
    "\n",
    "colors = [nation_colors.get(team, 'gray') for team in win_percentage_sorted.index]\n",
    "\n",
    "plt.figure(figsize=(16, 10), facecolor='skyblue')\n",
    "\n",
    "bars = plt.bar(win_percentage_sorted.index, win_percentage_sorted, color=colors)\n",
    "\n",
    "plt.xlabel('Teams', fontsize=16, weight='bold')\n",
    "plt.ylabel('Win Percentage', fontsize=16, weight='bold')\n",
    "plt.title('Win Percentage of Each Team', fontsize=20, weight='bold')\n",
    "plt.xticks(rotation=30, ha='right', fontsize=14, weight='bold')\n",
    "plt.yticks(fontsize=14, weight='bold')\n",
    "plt.ylim(0, 100)\n",
    "\n",
    "for bar, percentage in zip(bars, win_percentage_sorted):\n",
    "    plt.text(bar.get_x() + bar.get_width() / 2, bar.get_height() + 1, f'{percentage:.1f}%', \n",
    "            ha='center', va='bottom', fontsize=12, weight='bold')\n",
    "\n",
    "legend_handles = []\n",
    "for team, color in nation_colors.items():\n",
    "    if team in win_percentage_sorted.index:\n",
    "        legend_handles.append(plt.bar([team], [0], color=color))\n",
    "\n",
    "plt.legend(legend_handles, nation_colors.keys(), loc='upper right', bbox_to_anchor=(1.25, 1), fontsize=12)\n",
    "\n",
    "plt.tight_layout()\n",
    "plt.show()\n"
   ]
  },
  {
   "cell_type": "markdown",
   "metadata": {
    "papermill": {
     "duration": 0.017734,
     "end_time": "2024-07-18T17:25:35.04128",
     "exception": false,
     "start_time": "2024-07-18T17:25:35.023546",
     "status": "completed"
    },
    "tags": []
   },
   "source": [
    "<div style=\"font-size: 36px; font-weight: bold; color: skyblue; text-transform: uppercase; background-color: black; border: 2px solid blue; padding: 5px 10px; display: inline-block; border-radius: 10px; width:900px\">\n",
    "    1.3. How does the toss outcome affect the match result?\n",
    "</div>"
   ]
  },
  {
   "cell_type": "code",
   "execution_count": null,
   "metadata": {
    "execution": {
     "iopub.execute_input": "2024-07-18T17:25:35.079854Z",
     "iopub.status.busy": "2024-07-18T17:25:35.078805Z",
     "iopub.status.idle": "2024-07-18T17:25:35.088512Z",
     "shell.execute_reply": "2024-07-18T17:25:35.087253Z"
    },
    "papermill": {
     "duration": 0.031565,
     "end_time": "2024-07-18T17:25:35.091035",
     "exception": false,
     "start_time": "2024-07-18T17:25:35.05947",
     "status": "completed"
    },
    "tags": []
   },
   "outputs": [],
   "source": [
    "toss_match_outcome = matches[matches['toss_winner'] == matches['winner']]\n",
    "\n",
    "toss_win_and_match_win_count = toss_match_outcome.shape[0]\n",
    "total_matches_count = matches.shape[0]\n",
    "\n",
    "print(f\"Toss winner also won the match {toss_win_and_match_win_count} times out of {total_matches_count} matches.\")"
   ]
  },
  {
   "cell_type": "markdown",
   "metadata": {
    "papermill": {
     "duration": 0.017798,
     "end_time": "2024-07-18T17:25:35.127051",
     "exception": false,
     "start_time": "2024-07-18T17:25:35.109253",
     "status": "completed"
    },
    "tags": []
   },
   "source": [
    "<div style=\"font-size: 36px; font-weight: bold; color: skyblue; text-transform: uppercase; background-color: black; border: 2px solid blue; padding: 5px 10px; display: inline-block; border-radius: 10px; width:800px\">\n",
    "    1.4. What are the most common venues for winning?\n",
    "</div>"
   ]
  },
  {
   "cell_type": "code",
   "execution_count": null,
   "metadata": {
    "execution": {
     "iopub.execute_input": "2024-07-18T17:25:35.165615Z",
     "iopub.status.busy": "2024-07-18T17:25:35.16464Z",
     "iopub.status.idle": "2024-07-18T17:25:35.178925Z",
     "shell.execute_reply": "2024-07-18T17:25:35.177877Z"
    },
    "papermill": {
     "duration": 0.036466,
     "end_time": "2024-07-18T17:25:35.18166",
     "exception": false,
     "start_time": "2024-07-18T17:25:35.145194",
     "status": "completed"
    },
    "tags": []
   },
   "outputs": [],
   "source": [
    "venue_wins = matches.groupby('venue')['winner'].value_counts().sort_values(ascending=False)\n",
    "\n",
    "most_common_venue = venue_wins.idxmax()[0]\n",
    "\n",
    "print(f\"The most common venue for winning: {most_common_venue}\")"
   ]
  },
  {
   "cell_type": "markdown",
   "metadata": {
    "papermill": {
     "duration": 0.018232,
     "end_time": "2024-07-18T17:25:35.21848",
     "exception": false,
     "start_time": "2024-07-18T17:25:35.200248",
     "status": "completed"
    },
    "tags": []
   },
   "source": [
    "<div style=\"font-size: 36px; font-weight: bold; color: skyblue; text-transform: uppercase; background-color: black; border: 2px solid blue; padding: 5px 10px; display: inline-block; border-radius: 10px; width:900px\">\n",
    "    1.5 How often do teams win after winning the toss and choosing to bat or bowl?\n",
    "</div>"
   ]
  },
  {
   "cell_type": "code",
   "execution_count": null,
   "metadata": {
    "execution": {
     "iopub.execute_input": "2024-07-18T17:25:35.256945Z",
     "iopub.status.busy": "2024-07-18T17:25:35.256539Z",
     "iopub.status.idle": "2024-07-18T17:25:35.267368Z",
     "shell.execute_reply": "2024-07-18T17:25:35.266151Z"
    },
    "papermill": {
     "duration": 0.033309,
     "end_time": "2024-07-18T17:25:35.270261",
     "exception": false,
     "start_time": "2024-07-18T17:25:35.236952",
     "status": "completed"
    },
    "tags": []
   },
   "outputs": [],
   "source": [
    "chosen_to_bat = matches[(matches['toss_decision'] == 'bat') & (matches['toss_winner'] == matches['winner'])]\n",
    "chosen_to_field = matches[(matches['toss_decision'] == 'field') & (matches['toss_winner'] == matches['winner'])]\n",
    "\n",
    "batting_win_percentage = (chosen_to_bat.shape[0] / matches.shape[0]) * 100\n",
    "fielding_win_percentage = (chosen_to_field.shape[0] / matches.shape[0]) * 100\n",
    "\n",
    "print(f\"Percentage of wins after choosing to bat: {batting_win_percentage:.2f}%\")\n",
    "print(f\"Percentage of wins after choosing to field: {fielding_win_percentage:.2f}%\")"
   ]
  },
  {
   "cell_type": "markdown",
   "metadata": {
    "papermill": {
     "duration": 0.01871,
     "end_time": "2024-07-18T17:25:35.308005",
     "exception": false,
     "start_time": "2024-07-18T17:25:35.289295",
     "status": "completed"
    },
    "tags": []
   },
   "source": [
    "<div style=\"font-size: 36px; font-weight: bold; color: skyblue; text-transform: uppercase; background-color: black; border: 2px solid blue; padding: 5px 10px; display: inline-block; border-radius: 10px; width:900px\">\n",
    "    1.6. How does team performance vary between batting first and chasing targets?\n",
    "</div>"
   ]
  },
  {
   "cell_type": "code",
   "execution_count": null,
   "metadata": {
    "execution": {
     "iopub.execute_input": "2024-07-18T17:25:35.413937Z",
     "iopub.status.busy": "2024-07-18T17:25:35.41354Z",
     "iopub.status.idle": "2024-07-18T17:25:35.424758Z",
     "shell.execute_reply": "2024-07-18T17:25:35.423504Z"
    },
    "papermill": {
     "duration": 0.100203,
     "end_time": "2024-07-18T17:25:35.427671",
     "exception": false,
     "start_time": "2024-07-18T17:25:35.327468",
     "status": "completed"
    },
    "tags": []
   },
   "outputs": [],
   "source": [
    "batting_first = matches[matches['toss_decision'] == 'bat']\n",
    "chasing_target = matches[matches['toss_decision'] == 'field']\n",
    "\n",
    "batting_first_win_percentage = (batting_first[batting_first['winner'] == batting_first['team1']].shape[0] / batting_first.shape[0]) * 100\n",
    "chasing_win_percentage = (chasing_target[chasing_target['winner'] == chasing_target['team2']].shape[0] / chasing_target.shape[0]) * 100\n",
    "\n",
    "print(f\"Win percentage batting first: {batting_first_win_percentage:.2f}%\")\n",
    "print(f\"Win percentage chasing target: {chasing_win_percentage:.2f}%\")"
   ]
  },
  {
   "cell_type": "markdown",
   "metadata": {
    "papermill": {
     "duration": 0.018671,
     "end_time": "2024-07-18T17:25:35.46513",
     "exception": false,
     "start_time": "2024-07-18T17:25:35.446459",
     "status": "completed"
    },
    "tags": []
   },
   "source": [
    "<div style=\"font-size: 45px; font-weight: bold; color: yellow; text-transform: uppercase; background-color: black; border: 5px solid yellow; padding: 5px 10px; display: inline-block; border-radius: 10px; width:900px\">\n",
    "    2. Player Performance Analysis\n",
    "</div>"
   ]
  },
  {
   "cell_type": "markdown",
   "metadata": {
    "papermill": {
     "duration": 0.019362,
     "end_time": "2024-07-18T17:25:35.503282",
     "exception": false,
     "start_time": "2024-07-18T17:25:35.48392",
     "status": "completed"
    },
    "tags": []
   },
   "source": [
    "<div style=\"font-size: 36px; font-weight: bold; color: skyblue; text-transform: uppercase; background-color: black; border: 2px solid blue; padding: 5px 10px; display: inline-block; border-radius: 10px; width:880px\">\n",
    "    2.1. Top Run Scorers of the Tournament\n",
    "</div>"
   ]
  },
  {
   "cell_type": "code",
   "execution_count": null,
   "metadata": {
    "execution": {
     "iopub.execute_input": "2024-07-18T17:25:35.543427Z",
     "iopub.status.busy": "2024-07-18T17:25:35.543025Z",
     "iopub.status.idle": "2024-07-18T17:25:36.070551Z",
     "shell.execute_reply": "2024-07-18T17:25:36.069394Z"
    },
    "papermill": {
     "duration": 0.551518,
     "end_time": "2024-07-18T17:25:36.0737",
     "exception": false,
     "start_time": "2024-07-18T17:25:35.522182",
     "status": "completed"
    },
    "tags": []
   },
   "outputs": [],
   "source": [
    "top_run_scorers = deliveries.groupby('striker')['runs_off_bat'].sum().sort_values(ascending=False).head(10)\n",
    "\n",
    "plt.figure(figsize=(14, 8))\n",
    "sns.set_style(style=\"whitegrid\")\n",
    "\n",
    "barplot = sns.barplot(x=top_run_scorers.values, y=top_run_scorers.index, palette='viridis')\n",
    "plt.title('Top Run-Scorers of the Tournament', fontsize=20, weight='bold')\n",
    "plt.xlabel('Runs Scored', fontsize=16, weight='bold')\n",
    "plt.ylabel('Players', fontsize=16, weight='bold')\n",
    "\n",
    "for index, value in enumerate(top_run_scorers.values):\n",
    "    plt.text(value, index, f'{value}', va='center', ha='left', fontsize=12, color='black', weight='bold')\n",
    "\n",
    "plt.xticks(fontsize=12, weight='bold')\n",
    "plt.yticks(fontsize=12, weight='bold')\n",
    "plt.grid(axis='x', linestyle='--', alpha=0.7)\n",
    "\n",
    "plt.gca().set_facecolor('lightblue')\n",
    "\n",
    "plt.tight_layout()\n",
    "plt.show()"
   ]
  },
  {
   "cell_type": "markdown",
   "metadata": {
    "papermill": {
     "duration": 0.019865,
     "end_time": "2024-07-18T17:25:36.114337",
     "exception": false,
     "start_time": "2024-07-18T17:25:36.094472",
     "status": "completed"
    },
    "tags": []
   },
   "source": [
    "<div style=\"font-size: 36px; font-weight: bold; color: skyblue; text-transform: uppercase; background-color: black; border: 2px solid blue; padding: 5px 10px; display: inline-block; border-radius: 10px; width:900px\">\n",
    "    2.2. Top Wicket-Takers of the Tournament\n",
    "</div>"
   ]
  },
  {
   "cell_type": "code",
   "execution_count": null,
   "metadata": {
    "execution": {
     "iopub.execute_input": "2024-07-18T17:25:36.156815Z",
     "iopub.status.busy": "2024-07-18T17:25:36.156408Z",
     "iopub.status.idle": "2024-07-18T17:25:36.830294Z",
     "shell.execute_reply": "2024-07-18T17:25:36.829Z"
    },
    "papermill": {
     "duration": 0.698987,
     "end_time": "2024-07-18T17:25:36.833626",
     "exception": false,
     "start_time": "2024-07-18T17:25:36.134639",
     "status": "completed"
    },
    "tags": []
   },
   "outputs": [],
   "source": [
    "top_wicket_takers = deliveries[deliveries['wicket_type'].notnull()].groupby('bowler').size().sort_values(ascending=False).head(10)\n",
    "\n",
    "plt.figure(figsize=(14, 8))\n",
    "sns.set(style=\"whitegrid\")\n",
    "\n",
    "barplot = sns.barplot(x=top_wicket_takers.values, y=top_wicket_takers.index, palette='plasma')\n",
    "plt.title('Top Wicket-Takers of the Tournament', fontsize=20, weight='bold')\n",
    "plt.xlabel('Wickets Taken', fontsize=16, weight='bold')\n",
    "plt.ylabel('Bowlers', fontsize=16, weight='bold')\n",
    "\n",
    "for index, value in enumerate(top_wicket_takers.values):\n",
    "    plt.text(value, index, f'{value}', va='center', ha='left', fontsize=12, color='black', weight='bold')\n",
    "\n",
    "plt.xticks(fontsize=12, weight='bold')\n",
    "plt.yticks(fontsize=12, weight='bold')\n",
    "plt.grid(axis='x', linestyle='--', alpha=0.7)\n",
    "\n",
    "plt.gca().set_facecolor('lightblue')\n",
    "\n",
    "plt.tight_layout()\n",
    "plt.show()"
   ]
  },
  {
   "cell_type": "markdown",
   "metadata": {
    "papermill": {
     "duration": 0.027178,
     "end_time": "2024-07-18T17:25:36.889574",
     "exception": false,
     "start_time": "2024-07-18T17:25:36.862396",
     "status": "completed"
    },
    "tags": []
   },
   "source": [
    "<div style=\"font-size: 36px; font-weight: bold; color: skyblue; text-transform: uppercase; background-color: black; border: 2px solid blue; padding: 5px 10px; display: inline-block; border-radius: 10px; width:900px\">\n",
    "    2.3. Players with the Highest Strike Rates(Runs > 150)\n",
    "</div>"
   ]
  },
  {
   "cell_type": "code",
   "execution_count": null,
   "metadata": {
    "execution": {
     "iopub.execute_input": "2024-07-18T17:25:36.934289Z",
     "iopub.status.busy": "2024-07-18T17:25:36.933338Z",
     "iopub.status.idle": "2024-07-18T17:25:37.559091Z",
     "shell.execute_reply": "2024-07-18T17:25:37.557931Z"
    },
    "papermill": {
     "duration": 0.651538,
     "end_time": "2024-07-18T17:25:37.562361",
     "exception": false,
     "start_time": "2024-07-18T17:25:36.910823",
     "status": "completed"
    },
    "tags": []
   },
   "outputs": [],
   "source": [
    "balls_faced = deliveries.groupby('striker').size()\n",
    "runs_scored = deliveries.groupby('striker')['runs_off_bat'].sum()\n",
    "\n",
    "strike_rate = (runs_scored / balls_faced) * 100\n",
    "\n",
    "filtered_strike_rate = strike_rate[runs_scored > 150]\n",
    "\n",
    "top_strike_rates = filtered_strike_rate.sort_values(ascending=False).head(10)\n",
    "\n",
    "plt.figure(figsize=(14, 8))\n",
    "sns.set_style(style=\"whitegrid\")\n",
    "\n",
    "barplot = sns.barplot(x=top_strike_rates.values, y=top_strike_rates.index, palette='coolwarm')\n",
    "plt.title('Players with the Highest Strike Rates (Runs > 150)', fontsize=20, weight='bold')\n",
    "plt.xlabel('Strike Rate', fontsize=16, weight='bold')\n",
    "plt.ylabel('Players', fontsize=16, weight='bold')\n",
    "\n",
    "for index, value in enumerate(top_strike_rates.values):\n",
    "    plt.text(value, index, f'{value:.2f}', va='center', ha='left', fontsize=12, color='black', weight='bold')\n",
    "\n",
    "plt.xticks(fontsize=12, weight='bold')\n",
    "plt.yticks(fontsize=12, weight='bold')\n",
    "plt.grid(axis='x', linestyle='--', alpha=0.7)\n",
    "\n",
    "plt.gca().set_facecolor('lightblue')\n",
    "\n",
    "plt.tight_layout()\n",
    "plt.show()"
   ]
  },
  {
   "cell_type": "markdown",
   "metadata": {
    "papermill": {
     "duration": 0.022098,
     "end_time": "2024-07-18T17:25:37.607584",
     "exception": false,
     "start_time": "2024-07-18T17:25:37.585486",
     "status": "completed"
    },
    "tags": []
   },
   "source": [
    "<div style=\"font-size: 36px; font-weight: bold; color: skyblue; text-transform: uppercase; background-color: black; border: 2px solid blue; padding: 5px 10px; display: inline-block; border-radius: 10px; width:800px\">\n",
    "    2.4. Players with the Best Economy Rates(Minimum 150 Balls)\n",
    "</div>"
   ]
  },
  {
   "cell_type": "code",
   "execution_count": null,
   "metadata": {
    "execution": {
     "iopub.execute_input": "2024-07-18T17:25:37.653929Z",
     "iopub.status.busy": "2024-07-18T17:25:37.653549Z",
     "iopub.status.idle": "2024-07-18T17:25:38.298114Z",
     "shell.execute_reply": "2024-07-18T17:25:38.296831Z"
    },
    "papermill": {
     "duration": 0.671152,
     "end_time": "2024-07-18T17:25:38.30105",
     "exception": false,
     "start_time": "2024-07-18T17:25:37.629898",
     "status": "completed"
    },
    "tags": []
   },
   "outputs": [],
   "source": [
    "balls_bowled = deliveries.groupby('bowler').size()\n",
    "runs_conceded = deliveries.groupby('bowler')['runs_off_bat'].sum() + deliveries.groupby('bowler')['extras'].sum()\n",
    "\n",
    "economy_rate = (runs_conceded / (balls_bowled / 6))\n",
    "\n",
    "filtered_economy_rate = economy_rate[balls_bowled >= 150]\n",
    "\n",
    "best_economy_rates = filtered_economy_rate.sort_values().head(10)\n",
    "\n",
    "plt.figure(figsize=(14, 8))\n",
    "sns.set_style(style=\"whitegrid\")\n",
    "\n",
    "barplot = sns.barplot(x=best_economy_rates.values, y=best_economy_rates.index, palette='viridis')\n",
    "plt.title('Players with the Best Economy Rates (Min 150 Balls Bowled)', fontsize=20, weight='bold')\n",
    "plt.xlabel('Economy Rate', fontsize=16, weight='bold')\n",
    "plt.ylabel('Bowlers', fontsize=16, weight='bold')\n",
    "\n",
    "for index, value in enumerate(best_economy_rates.values):\n",
    "    plt.text(value, index, f'{value:.2f}', va='center', ha='left', fontsize=12, color='black', weight='bold')\n",
    "\n",
    "plt.xticks(fontsize=12, weight='bold')\n",
    "plt.yticks(fontsize=12, weight='bold')\n",
    "plt.grid(axis='x', linestyle='--', alpha=0.7)\n",
    "\n",
    "plt.gca().set_facecolor('lightblue')\n",
    "\n",
    "plt.tight_layout()\n",
    "plt.show()"
   ]
  },
  {
   "cell_type": "markdown",
   "metadata": {
    "papermill": {
     "duration": 0.023291,
     "end_time": "2024-07-18T17:25:38.348033",
     "exception": false,
     "start_time": "2024-07-18T17:25:38.324742",
     "status": "completed"
    },
    "tags": []
   },
   "source": [
    "<div style=\"font-size: 36px; font-weight: bold; color: skyblue; text-transform: uppercase; background-color: black; border: 2px solid blue; padding: 5px 10px; display: inline-block; border-radius: 10px; width:550px\">\n",
    "    2.5. Consistent Batters\n",
    "</div>"
   ]
  },
  {
   "cell_type": "code",
   "execution_count": null,
   "metadata": {
    "execution": {
     "iopub.execute_input": "2024-07-18T17:25:38.397206Z",
     "iopub.status.busy": "2024-07-18T17:25:38.396767Z",
     "iopub.status.idle": "2024-07-18T17:25:38.418196Z",
     "shell.execute_reply": "2024-07-18T17:25:38.417015Z"
    },
    "papermill": {
     "duration": 0.049231,
     "end_time": "2024-07-18T17:25:38.420864",
     "exception": false,
     "start_time": "2024-07-18T17:25:38.371633",
     "status": "completed"
    },
    "tags": []
   },
   "outputs": [],
   "source": [
    "consistent_batsmen = deliveries.groupby(['match_id', 'striker'])['runs_off_bat'].sum().groupby('striker').mean().sort_values(ascending=False).head(10)\n",
    "consistent_batsmen = consistent_batsmen.reset_index().rename(columns={\"striker\": \"Batsman\", \"runs_off_bat\": \"Striking Rate\"})\n",
    "pd.DataFrame(consistent_batsmen)"
   ]
  },
  {
   "cell_type": "markdown",
   "metadata": {
    "papermill": {
     "duration": 0.023987,
     "end_time": "2024-07-18T17:25:38.468774",
     "exception": false,
     "start_time": "2024-07-18T17:25:38.444787",
     "status": "completed"
    },
    "tags": []
   },
   "source": [
    "<div style=\"font-size: 36px; font-weight: bold; color: skyblue; text-transform: uppercase; background-color: black; border: 2px solid blue; padding: 5px 10px; display: inline-block; border-radius: 10px; width:550px\">\n",
    "    2.6. Consistent Bowlers\n",
    "</div>"
   ]
  },
  {
   "cell_type": "code",
   "execution_count": null,
   "metadata": {
    "execution": {
     "iopub.execute_input": "2024-07-18T17:25:38.51888Z",
     "iopub.status.busy": "2024-07-18T17:25:38.518179Z",
     "iopub.status.idle": "2024-07-18T17:25:38.538172Z",
     "shell.execute_reply": "2024-07-18T17:25:38.537014Z"
    },
    "papermill": {
     "duration": 0.0479,
     "end_time": "2024-07-18T17:25:38.540737",
     "exception": false,
     "start_time": "2024-07-18T17:25:38.492837",
     "status": "completed"
    },
    "tags": []
   },
   "outputs": [],
   "source": [
    "consistent_bowlers = deliveries[deliveries['wicket_type'].notnull()].groupby(['match_id', 'bowler']).size().groupby('bowler').mean().sort_values(ascending=False).head(10)\n",
    "consistent_bowlers = consistent_bowlers.reset_index().rename(columns={\"bowler\": \"Bowler\", 0: 'Consistency in Economy'})\n",
    "consistent_bowlers"
   ]
  },
  {
   "cell_type": "markdown",
   "metadata": {
    "papermill": {
     "duration": 0.026696,
     "end_time": "2024-07-18T17:25:38.592262",
     "exception": false,
     "start_time": "2024-07-18T17:25:38.565566",
     "status": "completed"
    },
    "tags": []
   },
   "source": [
    "<div style=\"font-size: 36px; font-weight: bold; color: skyblue; text-transform: uppercase; background-color: black; border: 2px solid blue; padding: 5px 10px; display: inline-block; border-radius: 10px; width:900px\">\n",
    "    2.7. Player Performances in Powerplay, Middle Overs, and Death Overs\n",
    "</div>"
   ]
  },
  {
   "cell_type": "code",
   "execution_count": null,
   "metadata": {
    "execution": {
     "iopub.execute_input": "2024-07-18T17:25:38.64495Z",
     "iopub.status.busy": "2024-07-18T17:25:38.643933Z",
     "iopub.status.idle": "2024-07-18T17:25:39.957212Z",
     "shell.execute_reply": "2024-07-18T17:25:39.956043Z"
    },
    "papermill": {
     "duration": 1.343089,
     "end_time": "2024-07-18T17:25:39.961158",
     "exception": false,
     "start_time": "2024-07-18T17:25:38.618069",
     "status": "completed"
    },
    "tags": []
   },
   "outputs": [],
   "source": [
    "powerplay = deliveries[deliveries['ball'].between(0.1, 6.6)]\n",
    "middle_overs = deliveries[deliveries['ball'].between(7.1, 15.6)]\n",
    "death_overs = deliveries[deliveries['ball'].between(16.1, 20.6)]\n",
    "\n",
    "powerplay_performance = powerplay.groupby('striker')['runs_off_bat'].sum().sort_values(ascending=False)\n",
    "middle_overs_performance = middle_overs.groupby('striker')['runs_off_bat'].sum().sort_values(ascending=False)\n",
    "death_overs_performance = death_overs.groupby('striker')['runs_off_bat'].sum().sort_values(ascending=False)\n",
    "sns.set_style(style=\"whitegrid\")\n",
    "\n",
    "top10_powerplay = powerplay_performance.head(10).sort_values(ascending=False)\n",
    "top10_middle_overs = middle_overs_performance.head(10).sort_values(ascending=False)\n",
    "top10_death_overs = death_overs_performance.head(10).sort_values(ascending=False)\n",
    "\n",
    "fig, axes = plt.subplots(3, 1, figsize=(12, 18))\n",
    "\n",
    "sns.barplot(x=top10_powerplay.values, y=top10_powerplay.index, ax=axes[0], palette=\"Blues_d\")\n",
    "axes[0].set_title('Top 10 Players in Powerplay', fontsize=20, weight='bold')\n",
    "axes[0].set_xlabel('Runs Scored', fontsize=16, weight='bold')\n",
    "axes[0].set_ylabel('Player', fontsize=16, weight='bold')\n",
    "\n",
    "sns.barplot(x=top10_middle_overs.values, y=top10_middle_overs.index, ax=axes[1], palette=\"Greens_d\")\n",
    "axes[1].set_title('Top 10 Players in Middle Overs', fontsize=20, weight='bold')\n",
    "axes[1].set_xlabel('Runs Scored', fontsize=16, weight='bold')\n",
    "axes[1].set_ylabel('Player', fontsize=16, weight='bold')\n",
    "\n",
    "sns.barplot(x=top10_death_overs.values, y=top10_death_overs.index, ax=axes[2], palette=\"Reds_d\")\n",
    "axes[2].set_title('Top 10 Players in Death Overs', fontsize=20, weight='bold')\n",
    "axes[2].set_xlabel('Runs Scored', fontsize=16, weight='bold')\n",
    "axes[2].set_ylabel('Player', fontsize=16, weight='bold')\n",
    "\n",
    "plt.tight_layout()\n",
    "\n",
    "plt.show()"
   ]
  },
  {
   "cell_type": "markdown",
   "metadata": {
    "papermill": {
     "duration": 0.026017,
     "end_time": "2024-07-18T17:25:40.01447",
     "exception": false,
     "start_time": "2024-07-18T17:25:39.988453",
     "status": "completed"
    },
    "tags": []
   },
   "source": [
    "<div style=\"font-size: 45px; font-weight: bold; color: yellow; text-transform: uppercase; background-color: black; border: 5px solid yellow; padding: 5px 10px; display: inline-block; border-radius: 10px; width:900px\">\n",
    "    3. Batting Performance Analysis\n",
    "</div>"
   ]
  },
  {
   "cell_type": "markdown",
   "metadata": {
    "papermill": {
     "duration": 0.026273,
     "end_time": "2024-07-18T17:25:40.067206",
     "exception": false,
     "start_time": "2024-07-18T17:25:40.040933",
     "status": "completed"
    },
    "tags": []
   },
   "source": [
    "<div style=\"font-size: 36px; font-weight: bold; color: skyblue; text-transform: uppercase; background-color: black; border: 2px solid blue; padding: 5px 10px; display: inline-block; border-radius: 10px; width:900px\">\n",
    "    3.1. Teams score the most runs per over\n",
    "</div>"
   ]
  },
  {
   "cell_type": "code",
   "execution_count": null,
   "metadata": {
    "execution": {
     "iopub.execute_input": "2024-07-18T17:25:40.122071Z",
     "iopub.status.busy": "2024-07-18T17:25:40.121631Z",
     "iopub.status.idle": "2024-07-18T17:25:40.942562Z",
     "shell.execute_reply": "2024-07-18T17:25:40.941386Z"
    },
    "papermill": {
     "duration": 0.851715,
     "end_time": "2024-07-18T17:25:40.945307",
     "exception": false,
     "start_time": "2024-07-18T17:25:40.093592",
     "status": "completed"
    },
    "tags": []
   },
   "outputs": [],
   "source": [
    "team_runs = deliveries.groupby('batting_team')['runs_off_bat'].sum()\n",
    "team_balls = deliveries.groupby('batting_team').size()\n",
    "\n",
    "runs_per_over = team_runs / (team_balls / 6)\n",
    "most_runs_per_over = runs_per_over.sort_values(ascending=False)\n",
    "\n",
    "plt.figure(figsize=(14, 8))\n",
    "sns.set_style(style=\"whitegrid\")\n",
    "\n",
    "barplot = sns.barplot(x=most_runs_per_over.values, y=most_runs_per_over.index, palette='viridis')\n",
    "plt.title('Runs Per Over for Each Team', fontsize=20, weight='bold')\n",
    "plt.xlabel('Runs Per Over', fontsize=16, weight='bold')\n",
    "plt.ylabel('Teams', fontsize=16, weight='bold')\n",
    "\n",
    "for index, value in enumerate(most_runs_per_over.values):\n",
    "    plt.text(value, index, f'{value:.2f}', va='center', ha='left', fontsize=12, color='black', weight='bold')\n",
    "\n",
    "plt.xticks(fontsize=12, weight='bold')\n",
    "plt.yticks(fontsize=12, weight='bold')\n",
    "plt.grid(axis='x', linestyle='--', alpha=0.7)\n",
    "\n",
    "plt.gca().set_facecolor('lightblue')\n",
    "\n",
    "plt.tight_layout()\n",
    "plt.show()"
   ]
  },
  {
   "cell_type": "markdown",
   "metadata": {
    "papermill": {
     "duration": 0.028013,
     "end_time": "2024-07-18T17:25:41.001649",
     "exception": false,
     "start_time": "2024-07-18T17:25:40.973636",
     "status": "completed"
    },
    "tags": []
   },
   "source": [
    "<div style=\"font-size: 36px; font-weight: bold; color: skyblue; text-transform: uppercase; background-color: black; border: 2px solid blue; padding: 5px 10px; display: inline-block; border-radius: 10px; width:800px\">\n",
    "    3.2. Batting Performance vary by batting position\n",
    "</div>"
   ]
  },
  {
   "cell_type": "code",
   "execution_count": null,
   "metadata": {
    "execution": {
     "iopub.execute_input": "2024-07-18T17:25:41.060763Z",
     "iopub.status.busy": "2024-07-18T17:25:41.059791Z",
     "iopub.status.idle": "2024-07-18T17:25:41.893346Z",
     "shell.execute_reply": "2024-07-18T17:25:41.892167Z"
    },
    "papermill": {
     "duration": 0.867327,
     "end_time": "2024-07-18T17:25:41.89749",
     "exception": false,
     "start_time": "2024-07-18T17:25:41.030163",
     "status": "completed"
    },
    "tags": []
   },
   "outputs": [],
   "source": [
    "deliveries['ball_number'] = deliveries.groupby(['match_id', 'batting_team']).cumcount() + 1\n",
    "\n",
    "batting_positions = deliveries.groupby('ball_number')['runs_off_bat'].sum()\n",
    "balls_faced_positions = deliveries.groupby('ball_number').size()\n",
    "\n",
    "runs_per_ball_position = batting_positions / balls_faced_positions\n",
    "\n",
    "runs_per_ball_position_df = runs_per_ball_position.reset_index()\n",
    "runs_per_ball_position_df.columns = ['Batting Position', 'Runs Per Ball']\n",
    "\n",
    "plt.figure(figsize=(14, 8))\n",
    "sns.set_style(style=\"whitegrid\")\n",
    "\n",
    "lineplot = sns.lineplot(data=runs_per_ball_position_df, x='Batting Position', y='Runs Per Ball', marker='o', color='purple', linewidth=2.5)\n",
    "plt.title('Average Runs Per Ball by Batting Position', fontsize=20, weight='bold')\n",
    "plt.xlabel('Batting Position (Cumulative Balls Faced)', fontsize=16, weight='bold')\n",
    "plt.ylabel('Average Runs Per Ball', fontsize=16, weight='bold')\n",
    "\n",
    "plt.xticks(fontsize=12, weight='bold')\n",
    "plt.yticks(fontsize=12, weight='bold')\n",
    "plt.grid(axis='both', linestyle='--', alpha=0.7)\n",
    "\n",
    "plt.gca().set_facecolor('lightblue')\n",
    "\n",
    "for x, y in zip(runs_per_ball_position_df['Batting Position'], runs_per_ball_position_df['Runs Per Ball']):\n",
    "    plt.text(x, y, f'{y:.2f}', ha='center', va='bottom', fontsize=10, color='black', weight='bold')\n",
    "\n",
    "plt.tight_layout()\n",
    "plt.show()"
   ]
  },
  {
   "cell_type": "markdown",
   "metadata": {
    "papermill": {
     "duration": 0.030623,
     "end_time": "2024-07-18T17:25:41.959276",
     "exception": false,
     "start_time": "2024-07-18T17:25:41.928653",
     "status": "completed"
    },
    "tags": []
   },
   "source": [
    "<div style=\"font-size: 36px; font-weight: bold; color: skyblue; text-transform: uppercase; background-color: black; border: 2px solid blue; padding: 5px 10px; display: inline-block; border-radius: 10px; width:860px\">\n",
    "    3.3. Most Successful Batting Partnerships\n",
    "</div>"
   ]
  },
  {
   "cell_type": "code",
   "execution_count": null,
   "metadata": {
    "execution": {
     "iopub.execute_input": "2024-07-18T17:25:42.024065Z",
     "iopub.status.busy": "2024-07-18T17:25:42.023602Z",
     "iopub.status.idle": "2024-07-18T17:25:42.644358Z",
     "shell.execute_reply": "2024-07-18T17:25:42.643046Z"
    },
    "papermill": {
     "duration": 0.656406,
     "end_time": "2024-07-18T17:25:42.647735",
     "exception": false,
     "start_time": "2024-07-18T17:25:41.991329",
     "status": "completed"
    },
    "tags": []
   },
   "outputs": [],
   "source": [
    "partnerships = deliveries.groupby(['match_id', 'striker', 'non_striker'])['runs_off_bat'].sum()\n",
    "\n",
    "successful_partnerships = partnerships.groupby(['striker', 'non_striker']).sum().sort_values(ascending=False).reset_index()\n",
    "\n",
    "top_partnerships = successful_partnerships.head(10)\n",
    "\n",
    "top_partnerships['partnership'] = top_partnerships['striker'] + ' & ' + top_partnerships['non_striker']\n",
    "\n",
    "plt.figure(figsize=(14, 8))\n",
    "sns.set_style(style=\"whitegrid\")\n",
    "\n",
    "barplot = sns.barplot(data=top_partnerships, x='runs_off_bat', y='partnership', palette='viridis')\n",
    "plt.title('Top 10 Successful Partnerships in the Tournament', fontsize=20, weight='bold')\n",
    "plt.xlabel('Total Runs Scored', fontsize=16, weight='bold')\n",
    "plt.ylabel('Partnership', fontsize=16, weight='bold')\n",
    "\n",
    "plt.xticks(fontsize=12, weight='bold')\n",
    "plt.yticks(fontsize=12, weight='bold')\n",
    "plt.grid(axis='x', linestyle='--', alpha=0.7)\n",
    "\n",
    "plt.gca().set_facecolor('lightblue')\n",
    "\n",
    "for index, value in enumerate(top_partnerships['runs_off_bat']):\n",
    "    plt.text(value, index, f'{value}', ha='left', va='center', fontsize=10, color='black', weight='bold')\n",
    "\n",
    "plt.tight_layout()\n",
    "plt.show()"
   ]
  },
  {
   "cell_type": "markdown",
   "metadata": {
    "papermill": {
     "duration": 0.032513,
     "end_time": "2024-07-18T17:25:42.712748",
     "exception": false,
     "start_time": "2024-07-18T17:25:42.680235",
     "status": "completed"
    },
    "tags": []
   },
   "source": [
    "<div style=\"font-size: 36px; font-weight: bold; color: skyblue; text-transform: uppercase; background-color: black; border: 2px solid blue; padding: 5px 10px; display: inline-block; border-radius: 10px; width:900px\">\n",
    "    3.4. The Frequency of Boundaries Affect the Overall Score\n",
    "</div>"
   ]
  },
  {
   "cell_type": "code",
   "execution_count": null,
   "metadata": {
    "execution": {
     "iopub.execute_input": "2024-07-18T17:25:42.78122Z",
     "iopub.status.busy": "2024-07-18T17:25:42.780783Z",
     "iopub.status.idle": "2024-07-18T17:25:43.473326Z",
     "shell.execute_reply": "2024-07-18T17:25:43.472058Z"
    },
    "papermill": {
     "duration": 0.731373,
     "end_time": "2024-07-18T17:25:43.476712",
     "exception": false,
     "start_time": "2024-07-18T17:25:42.745339",
     "status": "completed"
    },
    "tags": []
   },
   "outputs": [],
   "source": [
    "boundaries = deliveries[deliveries['runs_off_bat'].isin([4, 6])]\n",
    "team_boundaries = boundaries.groupby('batting_team').size()\n",
    "team_total_runs = deliveries.groupby('batting_team')['runs_off_bat'].sum()\n",
    "\n",
    "boundary_percentage = (team_boundaries / team_total_runs) * 100\n",
    "\n",
    "boundary_percentage = boundary_percentage.reset_index()\n",
    "boundary_percentage.columns = ['batting_team', 'boundary_percentage']\n",
    "boundary_percentage = boundary_percentage.sort_values(by='boundary_percentage', ascending=False)\n",
    "\n",
    "plt.figure(figsize=(14, 8))\n",
    "sns.set_style(style=\"whitegrid\")\n",
    "\n",
    "barplot = sns.barplot(data=boundary_percentage, x='boundary_percentage', y='batting_team', palette='coolwarm')\n",
    "plt.title('Percentage of Runs from Boundaries by Team', fontsize=20, weight='bold')\n",
    "plt.xlabel('Boundary Percentage', fontsize=16, weight='bold')\n",
    "plt.ylabel('Team', fontsize=16, weight='bold')\n",
    "\n",
    "plt.xticks(fontsize=12, weight='bold')\n",
    "plt.yticks(fontsize=12, weight='bold')\n",
    "plt.grid(axis='x', linestyle='--', alpha=0.7)\n",
    "\n",
    "plt.gca().set_facecolor('lightblue')\n",
    "\n",
    "for index, value in enumerate(boundary_percentage['boundary_percentage']):\n",
    "    plt.text(value + 1, index, f'{value:.2f}%', ha='left', va='center', fontsize=10, color='black', weight='bold')\n",
    "\n",
    "plt.tight_layout()\n",
    "plt.show()"
   ]
  },
  {
   "cell_type": "markdown",
   "metadata": {
    "papermill": {
     "duration": 0.034172,
     "end_time": "2024-07-18T17:25:43.54518",
     "exception": false,
     "start_time": "2024-07-18T17:25:43.511008",
     "status": "completed"
    },
    "tags": []
   },
   "source": [
    "<div style=\"font-size: 36px; font-weight: bold; color: skyblue; text-transform: uppercase; background-color: black; border: 2px solid blue; padding: 5px 10px; display: inline-block; border-radius: 10px; width:850px\">\n",
    "    3.5. Percentage of Balls are Dot Balls\n",
    "</div>"
   ]
  },
  {
   "cell_type": "code",
   "execution_count": null,
   "metadata": {
    "execution": {
     "iopub.execute_input": "2024-07-18T17:25:43.619512Z",
     "iopub.status.busy": "2024-07-18T17:25:43.619071Z",
     "iopub.status.idle": "2024-07-18T17:25:44.44552Z",
     "shell.execute_reply": "2024-07-18T17:25:44.444312Z"
    },
    "papermill": {
     "duration": 0.868835,
     "end_time": "2024-07-18T17:25:44.44847",
     "exception": false,
     "start_time": "2024-07-18T17:25:43.579635",
     "status": "completed"
    },
    "tags": []
   },
   "outputs": [],
   "source": [
    "dot_balls = deliveries[deliveries['runs_off_bat'] == 0]\n",
    "team_dot_balls = dot_balls.groupby('batting_team').size()\n",
    "\n",
    "dot_ball_percentage = (team_dot_balls / team_balls) * 100\n",
    "\n",
    "dot_ball_percentage = dot_ball_percentage.reset_index()\n",
    "dot_ball_percentage.columns = ['batting_team', 'dot_ball_percentage']\n",
    "dot_ball_percentage = dot_ball_percentage.sort_values(by='dot_ball_percentage', ascending=False)\n",
    "\n",
    "plt.figure(figsize=(14, 8))\n",
    "sns.set_style(style=\"whitegrid\")\n",
    "\n",
    "barplot = sns.barplot(data=dot_ball_percentage, x='dot_ball_percentage', y='batting_team', palette='YlGnBu')\n",
    "plt.title('Percentage of Dot Balls by Team', fontsize=20, weight='bold')\n",
    "plt.xlabel('Dot Ball Percentage', fontsize=16, weight='bold')\n",
    "plt.ylabel('Team', fontsize=16, weight='bold')\n",
    "\n",
    "plt.xticks(fontsize=12, weight='bold')\n",
    "plt.yticks(fontsize=12, weight='bold')\n",
    "plt.grid(axis='x', linestyle='--', alpha=0.7)\n",
    "\n",
    "plt.gca().set_facecolor('lightblue')\n",
    "\n",
    "for index, value in enumerate(dot_ball_percentage['dot_ball_percentage']):\n",
    "    plt.text(value, index, f'{value:.2f}%', ha='left', va='center', fontsize=10, color='black', weight='bold')\n",
    "\n",
    "plt.tight_layout()\n",
    "plt.show()"
   ]
  },
  {
   "cell_type": "markdown",
   "metadata": {
    "papermill": {
     "duration": 0.035659,
     "end_time": "2024-07-18T17:25:44.520315",
     "exception": false,
     "start_time": "2024-07-18T17:25:44.484656",
     "status": "completed"
    },
    "tags": []
   },
   "source": [
    "<div style=\"font-size: 36px; font-weight: bold; color: skyblue; text-transform: uppercase; background-color: black; border: 2px solid blue; padding: 5px 10px; display: inline-block; border-radius: 10px; width:900px\">\n",
    "    3.6. Relationship between Strike Rate and Average Runs per Over for Different Batsmen\n",
    "</div>"
   ]
  },
  {
   "cell_type": "code",
   "execution_count": null,
   "metadata": {
    "execution": {
     "iopub.execute_input": "2024-07-18T17:25:44.596121Z",
     "iopub.status.busy": "2024-07-18T17:25:44.59523Z",
     "iopub.status.idle": "2024-07-18T17:25:45.200139Z",
     "shell.execute_reply": "2024-07-18T17:25:45.198933Z"
    },
    "papermill": {
     "duration": 0.646264,
     "end_time": "2024-07-18T17:25:45.202625",
     "exception": false,
     "start_time": "2024-07-18T17:25:44.556361",
     "status": "completed"
    },
    "tags": []
   },
   "outputs": [],
   "source": [
    "batsman_runs = deliveries.groupby('striker')['runs_off_bat'].sum()\n",
    "batsman_balls = deliveries.groupby('striker').size()\n",
    "\n",
    "strike_rate = (batsman_runs / batsman_balls) * 100\n",
    "batsman_runs_per_over = batsman_runs / (batsman_balls / 6)\n",
    "\n",
    "strike_rate_runs_per_over = pd.DataFrame({'Strike Rate': strike_rate, 'Runs per Over': batsman_runs_per_over})\n",
    "\n",
    "plt.figure(figsize=(12, 8))\n",
    "plt.scatter(strike_rate_runs_per_over['Strike Rate'], strike_rate_runs_per_over['Runs per Over'], alpha=0.8, color='b')\n",
    "plt.title('Relationship between Strike Rate and Runs per Over', fontsize=20, weight='bold')\n",
    "plt.xlabel('Strike Rate', fontsize=16, weight='bold')\n",
    "plt.ylabel('Runs per Over', fontsize=16, weight='bold')\n",
    "\n",
    "plt.grid(True, linestyle='--', alpha=0.7)\n",
    "\n",
    "plt.gca().set_facecolor('lightgray')\n",
    "\n",
    "plt.tight_layout()\n",
    "plt.show()"
   ]
  },
  {
   "cell_type": "markdown",
   "metadata": {
    "papermill": {
     "duration": 0.036993,
     "end_time": "2024-07-18T17:25:45.276607",
     "exception": false,
     "start_time": "2024-07-18T17:25:45.239614",
     "status": "completed"
    },
    "tags": []
   },
   "source": [
    "<div style=\"font-size: 36px; font-weight: bold; color: skyblue; text-transform: uppercase; background-color: black; border: 2px solid blue; padding: 5px 10px; display: inline-block; border-radius: 10px; width:900px\">\n",
    "    3.7. How do different batting orders (opening vs. middle order) affect total scores?\n",
    "</div>"
   ]
  },
  {
   "cell_type": "code",
   "execution_count": null,
   "metadata": {
    "execution": {
     "iopub.execute_input": "2024-07-18T17:25:45.352691Z",
     "iopub.status.busy": "2024-07-18T17:25:45.352288Z",
     "iopub.status.idle": "2024-07-18T17:25:45.73232Z",
     "shell.execute_reply": "2024-07-18T17:25:45.731166Z"
    },
    "papermill": {
     "duration": 0.421371,
     "end_time": "2024-07-18T17:25:45.734895",
     "exception": false,
     "start_time": "2024-07-18T17:25:45.313524",
     "status": "completed"
    },
    "tags": []
   },
   "outputs": [],
   "source": [
    "deliveries['batting_order'] = deliveries['ball_number'].apply(lambda x: 'Opening' if x <= 24 else 'Middle Order')\n",
    "\n",
    "order_runs = deliveries.groupby('batting_order')['runs_off_bat'].sum()\n",
    "\n",
    "plt.figure(figsize=(10, 6))\n",
    "bars = plt.bar(order_runs.index, order_runs.values, color=['skyblue', 'lightgreen'])\n",
    "plt.title('Total Runs by Batting Order', fontsize=20, weight='bold')\n",
    "plt.xlabel('Batting Order', fontsize=16, weight='bold')\n",
    "plt.ylabel('Total Runs', fontsize=16, weight='bold')\n",
    "\n",
    "for bar in bars:\n",
    "    yval = bar.get_height()\n",
    "    plt.text(bar.get_x() + bar.get_width()/2, yval, round(yval, 2), ha='center', va='bottom', fontsize=12)\n",
    "\n",
    "plt.grid(axis='y', linestyle='--', alpha=0.7)\n",
    "\n",
    "plt.gca().set_facecolor('whitesmoke')\n",
    "\n",
    "plt.tight_layout()\n",
    "plt.show()"
   ]
  },
  {
   "cell_type": "markdown",
   "metadata": {
    "papermill": {
     "duration": 0.038431,
     "end_time": "2024-07-18T17:25:45.813159",
     "exception": false,
     "start_time": "2024-07-18T17:25:45.774728",
     "status": "completed"
    },
    "tags": []
   },
   "source": [
    "<div style=\"font-size: 45px; font-weight: bold; color: yellow; text-transform: uppercase; background-color: black; border: 5px solid yellow; padding: 5px 10px; display: inline-block; border-radius: 10px; width:900px\">\n",
    "    4. Bowling Performance Analysis\n",
    "</div>"
   ]
  },
  {
   "cell_type": "markdown",
   "metadata": {
    "papermill": {
     "duration": 0.038685,
     "end_time": "2024-07-18T17:25:45.891155",
     "exception": false,
     "start_time": "2024-07-18T17:25:45.85247",
     "status": "completed"
    },
    "tags": []
   },
   "source": [
    "<div style=\"font-size: 36px; font-weight: bold; color: skyblue; text-transform: uppercase; background-color: black; border: 2px solid blue; padding: 5px 10px; display: inline-block; border-radius: 10px; width:850px\">\n",
    "    4.1. The Impact of Dot Balls on the Opposition's Scoring Rate\n",
    "</div>"
   ]
  },
  {
   "cell_type": "code",
   "execution_count": null,
   "metadata": {
    "execution": {
     "iopub.execute_input": "2024-07-18T17:25:45.970433Z",
     "iopub.status.busy": "2024-07-18T17:25:45.970018Z",
     "iopub.status.idle": "2024-07-18T17:25:46.410618Z",
     "shell.execute_reply": "2024-07-18T17:25:46.409485Z"
    },
    "papermill": {
     "duration": 0.483665,
     "end_time": "2024-07-18T17:25:46.413441",
     "exception": false,
     "start_time": "2024-07-18T17:25:45.929776",
     "status": "completed"
    },
    "tags": []
   },
   "outputs": [],
   "source": [
    "deliveries['is_dot'] = deliveries['runs_off_bat'].apply(lambda x: 1 if x == 0 else 0)\n",
    "dot_ball_impact = deliveries.groupby('match_id')['is_dot'].mean()\n",
    "\n",
    "plt.figure(figsize=(12, 6))\n",
    "plt.scatter(dot_ball_impact.index, dot_ball_impact * 100, color='red', alpha=0.5)\n",
    "plt.xlabel('Match ID', fontsize=16, weight='bold')\n",
    "plt.ylabel('Dot Ball Percentage (%)', fontsize=16, weight='bold')\n",
    "plt.title('Impact of Dot Balls on Scoring Rate', fontsize=20, weight='bold')\n",
    "plt.grid(True)\n",
    "plt.show()"
   ]
  },
  {
   "cell_type": "markdown",
   "metadata": {
    "papermill": {
     "duration": 0.038179,
     "end_time": "2024-07-18T17:25:46.490072",
     "exception": false,
     "start_time": "2024-07-18T17:25:46.451893",
     "status": "completed"
    },
    "tags": []
   },
   "source": [
    "<div style=\"font-size: 50px; font-weight: bold; color: yellow; text-transform: uppercase; background-color: black; border: 5px solid yellow; padding: 5px 10px; display: inline-block; border-radius: 10px; width:600px\">\n",
    "    Thank You So Much\n",
    "</div>"
   ]
  }
 ],
 "metadata": {
  "kaggle": {
   "accelerator": "none",
   "dataSources": [
    {
     "datasetId": 5315775,
     "sourceId": 8833929,
     "sourceType": "datasetVersion"
    }
   ],
   "dockerImageVersionId": 30746,
   "isGpuEnabled": false,
   "isInternetEnabled": false,
   "language": "python",
   "sourceType": "notebook"
  },
  "kernelspec": {
   "display_name": "Python 3 (ipykernel)",
   "language": "python",
   "name": "python3"
  },
  "language_info": {
   "codemirror_mode": {
    "name": "ipython",
    "version": 3
   },
   "file_extension": ".py",
   "mimetype": "text/x-python",
   "name": "python",
   "nbconvert_exporter": "python",
   "pygments_lexer": "ipython3",
   "version": "3.10.7"
  },
  "papermill": {
   "default_parameters": {},
   "duration": 19.517809,
   "end_time": "2024-07-18T17:25:47.251699",
   "environment_variables": {},
   "exception": null,
   "input_path": "__notebook__.ipynb",
   "output_path": "__notebook__.ipynb",
   "parameters": {},
   "start_time": "2024-07-18T17:25:27.73389",
   "version": "2.5.0"
  }
 },
 "nbformat": 4,
 "nbformat_minor": 4
}
